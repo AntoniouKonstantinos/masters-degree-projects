{
 "cells": [
  {
   "cell_type": "markdown",
   "id": "055e64",
   "metadata": {
    "collapsed": false
   },
   "source": [
    "<span style='font-size:xx-large'>**Problem 7**</span>\n"
   ]
  },
  {
   "cell_type": "markdown",
   "id": "5d7c5a",
   "metadata": {
    "collapsed": false
   },
   "source": [
    "<span style='font-size:large'>Question a\\)</span>\n"
   ]
  },
  {
   "cell_type": "code",
   "execution_count": 7,
   "id": "e0eada",
   "metadata": {
    "collapsed": false
   },
   "outputs": [
    {
     "data": {
      "text/plain": [
       "(-10, sqrt(29), 2*sqrt(2), arccos(-5/58*sqrt(29)*sqrt(2)), sqrt(57))"
      ]
     },
     "execution_count": 7,
     "metadata": {
     },
     "output_type": "execute_result"
    }
   ],
   "source": [
    "# Define the vectors\n",
    "x = vector([2, 3, 4])\n",
    "y = vector([-2, -2, 0])\n",
    "\n",
    "#Dot product\n",
    "dot_product = x.dot_product(y)\n",
    "\n",
    "#Magnitudes of the vectors\n",
    "magn_x = x.norm()\n",
    "magn_y = y.norm()\n",
    "\n",
    "#Angle between the vectors\n",
    "cos_th = dot_product / (magn_x * magn_y)\n",
    "angle = acos(cos_th)\n",
    "\n",
    "#Euclidean distance\n",
    "distance = (x - y).norm()\n",
    "\n",
    "(dot_product, magn_x, magn_y, angle, distance)\n"
   ]
  },
  {
   "cell_type": "markdown",
   "id": "6c0f95",
   "metadata": {
    "collapsed": false
   },
   "source": [
    "<span style='font-size:large'>Question b\\)</span>\n",
    "\n"
   ]
  },
  {
   "cell_type": "code",
   "execution_count": 9,
   "id": "404951",
   "metadata": {
    "collapsed": false
   },
   "outputs": [
    {
     "data": {
      "text/plain": [
       "(-22, sqrt(46), 2*sqrt(6), arccos(-11/276*sqrt(46)*sqrt(6)), sqrt(114))"
      ]
     },
     "execution_count": 9,
     "metadata": {
     },
     "output_type": "execute_result"
    }
   ],
   "source": [
    "# Define the matrix A\n",
    "A = Matrix([[2, 1, 0],\n",
    "            [1, 2, -1],\n",
    "            [0, -1, 2]])\n",
    "\n",
    "#Modified inner product\n",
    "mod_dot_product = x * A * y\n",
    "\n",
    "#Norms under A\n",
    "norm_x_A = sqrt(x * A * x)\n",
    "norm_y_A = sqrt(y * A * y)\n",
    "\n",
    "# 3. Angle under A\n",
    "cos_th_A = mod_dot_product / (norm_x_A * norm_y_A)\n",
    "angle_A = acos(cos_th_A)\n",
    "\n",
    "# 4. Distance under A\n",
    "difference = x - y\n",
    "distance_A = sqrt(difference * A * difference)\n",
    "\n",
    "(mod_dot_product, norm_x_A, norm_y_A, angle_A, distance_A)\n"
   ]
  },
  {
   "cell_type": "markdown",
   "id": "caa6db",
   "metadata": {
    "collapsed": false
   },
   "source": [
    "<span style='font-size:xx-large'>**Problem 8**</span>\n"
   ]
  },
  {
   "cell_type": "code",
   "execution_count": 11,
   "id": "18cfb4",
   "metadata": {
    "collapsed": false
   },
   "outputs": [
    {
     "data": {
      "text/plain": [
       "((1/26*sqrt(26), 3/26*sqrt(26), 2/13*sqrt(26)),\n",
       " (9/7*sqrt(7/13), 1/7*sqrt(7/13), -3/7*sqrt(7/13)),\n",
       " (-1/7*sqrt(7/2), 3/7*sqrt(7/2), -2/7*sqrt(7/2)))"
      ]
     },
     "execution_count": 11,
     "metadata": {
     },
     "output_type": "execute_result"
    }
   ],
   "source": [
    "#Define the vectors\n",
    "x1 = vector([1, 3, 4])\n",
    "x2 = vector([4, 2, 1])\n",
    "x3 = vector([2, 5, 3])\n",
    "\n",
    "#Compute u1\n",
    "u1 = x1 / x1.norm()\n",
    "\n",
    "#Compute u2\n",
    "proj_x2_u1 = (x2.dot_product(u1)) * u1\n",
    "u2 = x2 - proj_x2_u1\n",
    "u2 = u2 / u2.norm()\n",
    "\n",
    "#Compute u3\n",
    "proj_x3_u1 = (x3.dot_product(u1)) * u1\n",
    "proj_x3_u2 = (x3.dot_product(u2)) * u2\n",
    "u3 = x3 - proj_x3_u1 - proj_x3_u2\n",
    "u3 = u3 / u3.norm()\n",
    "\n",
    "#Orthonormal\n",
    "(u1, u2, u3)\n"
   ]
  }
 ],
 "metadata": {
  "kernelspec": {
   "argv": [
    "sage-10.4",
    "--python",
    "-m",
    "sage.repl.ipython_kernel",
    "--matplotlib=inline",
    "-f",
    "{connection_file}"
   ],
   "display_name": "SageMath 10.4",
   "env": {
   },
   "language": "sagemath",
   "metadata": {
    "cocalc": {
     "description": "Open-source mathematical software system",
     "priority": 10,
     "url": "https://www.sagemath.org/"
    }
   },
   "name": "sage-10.4",
   "resource_dir": "/ext/jupyter/kernels/sage-10.4"
  },
  "language_info": {
   "codemirror_mode": {
    "name": "ipython",
    "version": 3
   },
   "file_extension": ".py",
   "mimetype": "text/x-python",
   "name": "python",
   "nbconvert_exporter": "python",
   "pygments_lexer": "ipython3",
   "version": "3.12.4"
  }
 },
 "nbformat": 4,
 "nbformat_minor": 4
}