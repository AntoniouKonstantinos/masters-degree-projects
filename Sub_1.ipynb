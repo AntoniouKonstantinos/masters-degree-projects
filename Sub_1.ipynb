{
 "cells": [
  {
   "cell_type": "markdown",
   "id": "0d40c2",
   "metadata": {
    "collapsed": false
   },
   "source": [
    "<span style='font-size:xx-large'>**Problem 7**</span>\n",
    "\n"
   ]
  },
  {
   "cell_type": "code",
   "execution_count": 2,
   "id": "86d8a1",
   "metadata": {
    "collapsed": false
   },
   "outputs": [
    {
     "data": {
      "text/plain": [
       "[   1  1/2  1/3  1/4  1/5  1/6]\n",
       "[ 1/2  1/3  1/4  1/5  1/6  1/7]\n",
       "[ 1/3  1/4  1/5  1/6  1/7  1/8]\n",
       "[ 1/4  1/5  1/6  1/7  1/8  1/9]\n",
       "[ 1/5  1/6  1/7  1/8  1/9 1/10]\n",
       "[ 1/6  1/7  1/8  1/9 1/10 1/11]"
      ]
     },
     "execution_count": 2,
     "metadata": {
     },
     "output_type": "execute_result"
    }
   ],
   "source": [
    "#define the Hilbert Matrix\n",
    "H_matrix = matrix(QQ, 6, 6,lambda i,j:1/(i+j+1));H_matrix\n",
    "H_matrix"
   ]
  },
  {
   "cell_type": "code",
   "execution_count": 3,
   "id": "b308ef",
   "metadata": {
    "collapsed": false
   },
   "outputs": [
    {
     "data": {
      "text/plain": [
       "1/186313420339200000"
      ]
     },
     "execution_count": 3,
     "metadata": {
     },
     "output_type": "execute_result"
    }
   ],
   "source": [
    "#compute the determinant\n",
    "determinant_H = H_matrix.det()\n",
    "determinant_H"
   ]
  },
  {
   "cell_type": "code",
   "execution_count": 4,
   "id": "b93c8a",
   "metadata": {
    "collapsed": false
   },
   "outputs": [
    {
     "data": {
      "text/plain": [
       "[      36     -630     3360    -7560     7560    -2772]\n",
       "[    -630    14700   -88200   211680  -220500    83160]\n",
       "[    3360   -88200   564480 -1411200  1512000  -582120]\n",
       "[   -7560   211680 -1411200  3628800 -3969000  1552320]\n",
       "[    7560  -220500  1512000 -3969000  4410000 -1746360]\n",
       "[   -2772    83160  -582120  1552320 -1746360   698544]"
      ]
     },
     "execution_count": 4,
     "metadata": {
     },
     "output_type": "execute_result"
    }
   ],
   "source": [
    "#compute the inverse Matrix\n",
    "inverse_H = H_matrix.inverse()\n",
    "inverse_H"
   ]
  },
  {
   "cell_type": "code",
   "execution_count": 5,
   "id": "ce3fea",
   "metadata": {
    "collapsed": false
   },
   "outputs": [
    {
     "data": {
      "text/plain": [
       "[ 15/16]\n",
       "[-105/4]\n",
       "[1155/8]\n",
       "[-945/4]\n",
       "[ 945/8]\n",
       "[     0]"
      ]
     },
     "execution_count": 5,
     "metadata": {
     },
     "output_type": "execute_result"
    }
   ],
   "source": [
    "#solve the system\n",
    "Y = Matrix([[1/2], [1/4], [1/8], [1/16], [1/32], [1/64]])\n",
    "X = H_matrix.solve_right(Y)\n",
    "X\n"
   ]
  },
  {
   "cell_type": "code",
   "execution_count": 6,
   "id": "8d8788",
   "metadata": {
    "collapsed": false
   },
   "outputs": [
    {
     "data": {
      "text/plain": [
       "[1 0 0 0 0 0]\n",
       "[0 1 0 0 0 0]\n",
       "[0 0 1 0 0 0]\n",
       "[0 0 0 1 0 0]\n",
       "[0 0 0 0 1 0]\n",
       "[0 0 0 0 0 1]"
      ]
     },
     "execution_count": 6,
     "metadata": {
     },
     "output_type": "execute_result"
    }
   ],
   "source": [
    "#compute the row echelon form\n",
    "echelon_H = H_matrix.echelon_form()\n",
    "echelon_H"
   ]
  },
  {
   "cell_type": "markdown",
   "id": "6aa008",
   "metadata": {
    "collapsed": false
   },
   "source": [
    "<span style='font-size:xx-large'>**Problem 8**</span>\n"
   ]
  },
  {
   "cell_type": "code",
   "execution_count": 9,
   "id": "d60318",
   "metadata": {
    "collapsed": false
   },
   "outputs": [
    {
     "data": {
      "text/plain": [
       "(\n",
       "[a 0 b]                                    \n",
       "[b a c]                                    \n",
       "[0 d a]                                    \n",
       "[d c a], [[a == 1, b == 3, c == 2, d == 1]]\n",
       ")"
      ]
     },
     "execution_count": 9,
     "metadata": {
     },
     "output_type": "execute_result"
    }
   ],
   "source": [
    "#define variables\n",
    "a, b, c, d = var('a b c d')\n",
    "\n",
    "#define the transformation Matrix Τ\n",
    "T = Matrix([[a, 0, b],[b, a, c],[0, d, a],[d, c, a]])\n",
    "\n",
    "#define the two matrices input and output\n",
    "f = Matrix([[1], [2], [1]])\n",
    "f_new = Matrix([[4], [7], [3], [6]])\n",
    "\n",
    "#set up the equations\n",
    "equations = (T * f - f_new).list()\n",
    "\n",
    "#solve\n",
    "result = solve(equations, [a, b, c, d])\n",
    "T, result\n"
   ]
  },
  {
   "cell_type": "code",
   "execution_count": 5,
   "id": "ade24e",
   "metadata": {
    "collapsed": false
   },
   "outputs": [
    {
     "data": {
      "text/plain": [
       "[  1/3  8/15 -2/15]\n",
       "[ -1/3  7/15  2/15]\n",
       "[ -1/3  -1/3   1/3]\n",
       "[  1/3 -4/15  1/15]"
      ]
     },
     "execution_count": 5,
     "metadata": {
     },
     "output_type": "execute_result"
    }
   ],
   "source": [
    "#define matrices b3 and b4\n",
    "b3 = Matrix([[1, 0, 2],\n",
    "            [2, 1, 0],\n",
    "            [3, 4, 5]])\n",
    "\n",
    "b4 = Matrix([[1, 0, 0, 1],\n",
    "            [1, 1, 0, 0],\n",
    "            [0, 1, 1, 0],\n",
    "            [0, 0, 1, 2]])\n",
    "\n",
    "#inverse b3\n",
    "b3_inv = b3.inverse()\n",
    "\n",
    "#add a row of zeros to inverse b3\n",
    "new_row = Matrix([[0, 0, 0]])\n",
    "b3_inv = b3_inv.stack(new_row)\n",
    "\n",
    "#transformation matrix\n",
    "t_matrix = b4 * b3_inv\n",
    "\n",
    "#disply\n",
    "t_matrix\n"
   ]
  }
 ],
 "metadata": {
  "kernelspec": {
   "argv": [
    "sage-10.4",
    "--python",
    "-m",
    "sage.repl.ipython_kernel",
    "--matplotlib=inline",
    "-f",
    "{connection_file}"
   ],
   "display_name": "SageMath 10.4",
   "env": {
   },
   "language": "sagemath",
   "metadata": {
    "cocalc": {
     "description": "Open-source mathematical software system",
     "priority": 10,
     "url": "https://www.sagemath.org/"
    }
   },
   "name": "sage-10.4",
   "resource_dir": "/ext/jupyter/kernels/sage-10.4"
  },
  "language_info": {
   "codemirror_mode": {
    "name": "ipython",
    "version": 3
   },
   "file_extension": ".py",
   "mimetype": "text/x-python",
   "name": "python",
   "nbconvert_exporter": "python",
   "pygments_lexer": "ipython3",
   "version": "3.12.4"
  }
 },
 "nbformat": 4,
 "nbformat_minor": 4
}