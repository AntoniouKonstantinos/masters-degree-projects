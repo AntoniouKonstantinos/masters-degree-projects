{
 "cells": [
  {
   "cell_type": "markdown",
   "id": "46e1f1",
   "metadata": {
    "collapsed": false
   },
   "source": [
    "<span style='font-size:xx-large'>**Problem 7**</span>\n",
    "\n"
   ]
  },
  {
   "cell_type": "code",
   "execution_count": 13,
   "id": "b95283",
   "metadata": {
    "collapsed": false
   },
   "outputs": [
   ],
   "source": [
    "#Import necessary functions\n",
    "from sage.all import erf, sqrt\n",
    "\n",
    "#Given data\n",
    "mu = 90.16       # Mean\n",
    "sigma = 0.07     # Standard deviation\n",
    "X1 = 90.22       # Upper bound\n",
    "X2 = 90.08       # Lower bound\n",
    "\n",
    "#Compute Z-scores\n",
    "Z1 = (X1 - mu) / sigma\n",
    "Z2 = (X2 - mu) / sigma\n",
    "\n",
    "#Standard normal CDF using the error function\n",
    "def normal_cdf(z):\n",
    "    return (1 + erf(z / sqrt(2))) / 2\n",
    "\n",
    "#Compute probabilities\n",
    "P_greater = 1 - normal_cdf(Z1)  # P(X > 90.22)\n",
    "P_less = normal_cdf(Z2)         # P(X < 90.08)\n",
    "\n",
    "#Total probability\n",
    "P_total = P_greater + P_less"
   ]
  },
  {
   "cell_type": "code",
   "execution_count": 15,
   "id": "c812d6",
   "metadata": {
    "collapsed": false
   },
   "outputs": [
    {
     "data": {
      "text/plain": [
       "90.2751397538866"
      ]
     },
     "execution_count": 15,
     "metadata": {
     },
     "output_type": "execute_result"
    }
   ],
   "source": [
    "#Calculate the length that corresponds to the 95th percentile\n",
    "from scipy.stats import norm\n",
    "\n",
    "#Find the Z-score for 95th percentile\n",
    "Z_95 = norm.ppf(0.95)\n",
    "\n",
    "#Calculate the corresponding length\n",
    "length_exceeding_5_percent = mu + Z_95 * sigma\n",
    "length_exceeding_5_percent"
   ]
  },
  {
   "cell_type": "code",
   "execution_count": 16,
   "id": "ed0265",
   "metadata": {
    "collapsed": false
   },
   "outputs": [
    {
     "data": {
      "text/plain": [
       "4845/131072*(erf(0.428571428571445*sqrt(2)) - erf(-0.571428571428559*sqrt(2)))^6*(erf(0.428571428571445*sqrt(2)) - erf(-0.571428571428559*sqrt(2)) - 2)^14"
      ]
     },
     "execution_count": 16,
     "metadata": {
     },
     "output_type": "execute_result"
    }
   ],
   "source": [
    "#Probability of a single part being within the specified length range\n",
    "p_success = P_total\n",
    "\n",
    "#Number of trials and successes\n",
    "n = 20  # Total parts\n",
    "k = 14  # Desired number of successes\n",
    "\n",
    "#Binomial probability mass function\n",
    "def binomial_pmf(n, k, p):\n",
    "    return binomial(n, k) * (p^k) * ((1 - p)^(n - k))\n",
    "\n",
    "#Calculate the probability of exactly 14 out of 20 parts\n",
    "prob_exactly_14 = binomial_pmf(n, k, p_success)\n",
    "prob_exactly_14"
   ]
  },
  {
   "cell_type": "code",
   "execution_count": 0,
   "id": "559fe9",
   "metadata": {
    "collapsed": false
   },
   "outputs": [
   ],
   "source": [
   ]
  },
  {
   "cell_type": "code",
   "execution_count": 17,
   "id": "79fbdf",
   "metadata": {
    "collapsed": false
   },
   "outputs": [
    {
     "data": {
      "text/plain": [
       "{mu: 90.1574022362769, sigma: 0.0603972858821602}"
      ]
     },
     "execution_count": 17,
     "metadata": {
     },
     "output_type": "execute_result"
    }
   ],
   "source": [
    "from scipy.stats import norm\n",
    "\n",
    "#Desired probabilities\n",
    "p_greater = 0.15\n",
    "p_less = 0.10\n",
    "\n",
    "#Find the Z-scores for the given probabilities\n",
    "Z_greater = norm.ppf(1 - p_greater)\n",
    "Z_less = norm.ppf(p_less)\n",
    "\n",
    "#Use the equations to solve for mu (mean) and sigma (standard deviation)\n",
    "from sympy import symbols, Eq, solve\n",
    "\n",
    "mu, sigma = symbols('mu sigma')\n",
    "\n",
    "#Create the equations based on the Z-scores\n",
    "eq1 = Eq(Z_greater, (X1 - mu) / sigma)\n",
    "eq2 = Eq(Z_less, (X2 - mu) / sigma)\n",
    "\n",
    "#Solve for mu and sigma\n",
    "solution = solve((eq1, eq2), (mu, sigma))\n",
    "solution"
   ]
  },
  {
   "cell_type": "markdown",
   "id": "db6c42",
   "metadata": {
    "collapsed": false
   },
   "source": [
    "<span style='font-size:xx-large'>**Problem 8**</span>\n",
    "\n"
   ]
  },
  {
   "cell_type": "code",
   "execution_count": 12,
   "id": "b8bb05",
   "metadata": {
    "collapsed": false
   },
   "outputs": [
    {
     "data": {
      "text/plain": [
       "-559/625"
      ]
     },
     "execution_count": 12,
     "metadata": {
     },
     "output_type": "execute_result"
    }
   ],
   "source": [
    "import random\n",
    "\n",
    "def simulate_game():\n",
    "    #Roll dice\n",
    "    dice1 = random.randint(1, 6)\n",
    "    dice2 = random.randint(1, 6)\n",
    "    \n",
    "    # Calculate profit-loss \n",
    "    if dice1 == 6 and dice2 == 6:\n",
    "        return 21 - 4  # Win 21, cost 4\n",
    "    elif dice1 == 6 or dice2 == 6:\n",
    "        return 9 - 4   # Win 9, cost 4\n",
    "    else:\n",
    "        return -4       # Lose 4e\n",
    "\n",
    "def simulate_games(n):\n",
    "    results = [simulate_game() for _ in range(n)]\n",
    "    expected_profit_loss = sum(results) / n\n",
    "    return expected_profit_loss\n",
    "\n",
    "#Simulate 10000 games\n",
    "expected_value = simulate_games(10000)\n",
    "expected_value"
   ]
  },
  {
   "cell_type": "code",
   "execution_count": 13,
   "id": "d2dd51",
   "metadata": {
    "collapsed": false
   },
   "outputs": [
    {
     "data": {
      "text/plain": [
       "-1.77320000000000"
      ]
     },
     "execution_count": 13,
     "metadata": {
     },
     "output_type": "execute_result"
    }
   ],
   "source": [
    "def simulate_game_2():\n",
    "    # Roll dice\n",
    "    dice1 = random.randint(1, 6)\n",
    "    dice2 = random.randint(1, 6)\n",
    "    \n",
    "    #Calculate profit-loss\n",
    "    if dice1 == dice2:\n",
    "        return 3 * dice1 - 3.5  # Win 3 times the outcome, cost 3.5\n",
    "    else:\n",
    "        return -3.5               # Lose 3.5\n",
    "\n",
    "def simulate_games_2(n):\n",
    "    results = [simulate_game_2() for _ in range(n)]\n",
    "    expected_profit_loss = sum(results) / n\n",
    "    return expected_profit_loss\n",
    "\n",
    "#Simulate 10000 games for Game 2\n",
    "expected_value_game_2 = simulate_games_2(10000)\n",
    "expected_value_game_2"
   ]
  },
  {
   "cell_type": "code",
   "execution_count": 14,
   "id": "0f927c",
   "metadata": {
    "collapsed": false
   },
   "outputs": [
    {
     "data": {
      "text/plain": [
       "-7/500"
      ]
     },
     "execution_count": 14,
     "metadata": {
     },
     "output_type": "execute_result"
    }
   ],
   "source": [
    "def simulate_game_3():\n",
    "    #Roll dice\n",
    "    dice1 = random.randint(1, 6)\n",
    "    dice2 = random.randint(1, 6)\n",
    "    \n",
    "    #Calculate profit-loss\n",
    "    if dice1 % 2 == 0 and dice2 % 2 == 0:\n",
    "        return 12 - 10  # Win 12, cost 10\n",
    "    elif (dice1 + dice2) % 2 == 1:\n",
    "        return 14 - 10  # Win 14, cost 10\n",
    "    else:\n",
    "        return -10      # Lose 10\n",
    "\n",
    "def simulate_games_3(n):\n",
    "    results = [simulate_game_3() for _ in range(n)]\n",
    "    expected_profit_loss = sum(results) / n\n",
    "    return expected_profit_loss\n",
    "\n",
    "#Simulate 10000 games for Game 3\n",
    "expected_value_game_3 = simulate_games_3(10000)\n",
    "expected_value_game_3"
   ]
  },
  {
   "cell_type": "code",
   "execution_count": 15,
   "id": "2b6b17",
   "metadata": {
    "collapsed": false
   },
   "outputs": [
    {
     "data": {
      "text/plain": [
       "-4197/10000"
      ]
     },
     "execution_count": 15,
     "metadata": {
     },
     "output_type": "execute_result"
    }
   ],
   "source": [
    "def simulate_game_4():\n",
    "    #Roll three dice\n",
    "    dice1 = random.randint(1, 6)\n",
    "    dice2 = random.randint(1, 6)\n",
    "    dice3 = random.randint(1, 6)\n",
    "    \n",
    "    #Calculate profit-loss\n",
    "    difference = dice1 + dice2 - dice3\n",
    "    if difference > 0:\n",
    "        return abs(difference) - 4  # Win the amount minus cost\n",
    "    else:\n",
    "        return -abs(difference) - 4  # Lose the amount plus cost\n",
    "\n",
    "def simulate_games_4(n):\n",
    "    results = [simulate_game_4() for _ in range(n)]\n",
    "    expected_profit_loss = sum(results) / n\n",
    "    return expected_profit_loss\n",
    "\n",
    "#Simulate 10000 games for Game 4\n",
    "expected_value_game_4 = simulate_games_4(10000)\n",
    "expected_value_game_4"
   ]
  },
  {
   "cell_type": "markdown",
   "id": "65b410",
   "metadata": {
    "collapsed": false
   },
   "source": [
    "<span style='font-size:large'>**All four games have a negative expected profit, meaning the player is expected to lose money in the long run.**</span>\n",
    "\n",
    "<span style='font-size:large'>**Game 3 has the smallest expected loss** </span>\n",
    "\n",
    "<span style='font-size:large'>**Game 2 has the worst expected loss**</span>\n",
    "\n",
    "<span style='font-size:large'>**The player should not play any of the games if they want to make money. However, Game 3 is the best option since it has the lowest expected loss.**</span>\n",
    "\n"
   ]
  },
  {
   "cell_type": "markdown",
   "id": "6b39e1",
   "metadata": {
    "collapsed": false
   },
   "source": [
   ]
  }
 ],
 "metadata": {
  "kernelspec": {
   "argv": [
    "sage-10.4",
    "--python",
    "-m",
    "sage.repl.ipython_kernel",
    "--matplotlib=inline",
    "-f",
    "{connection_file}"
   ],
   "display_name": "SageMath 10.4",
   "env": {
   },
   "language": "sagemath",
   "metadata": {
    "cocalc": {
     "description": "Open-source mathematical software system",
     "priority": 10,
     "url": "https://www.sagemath.org/"
    }
   },
   "name": "sage-10.4",
   "resource_dir": "/ext/jupyter/kernels/sage-10.4"
  },
  "language_info": {
   "codemirror_mode": {
    "name": "ipython",
    "version": 3
   },
   "file_extension": ".py",
   "mimetype": "text/x-python",
   "name": "python",
   "nbconvert_exporter": "python",
   "pygments_lexer": "ipython3",
   "version": "3.12.4"
  }
 },
 "nbformat": 4,
 "nbformat_minor": 4
}