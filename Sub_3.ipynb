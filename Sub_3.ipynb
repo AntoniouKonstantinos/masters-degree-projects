{
 "cells": [
  {
   "cell_type": "markdown",
   "id": "5f3183",
   "metadata": {
    "collapsed": false
   },
   "source": [
    "<span style='font-size:xx-large'>**Problem 7**</span>\n",
    "\n"
   ]
  },
  {
   "cell_type": "code",
   "execution_count": 2,
   "id": "a2d88b",
   "metadata": {
    "collapsed": false
   },
   "outputs": [
    {
     "data": {
      "text/plain": [
       "[-1/3    0  1/7  2/9 3/11]\n",
       "[   0  1/8 2/11 3/14 4/17]\n",
       "[ 1/7 2/11  1/5 4/19 5/23]\n",
       "[ 2/9 3/14 4/19 5/24 6/29]\n",
       "[3/11 4/17 5/23 6/29  1/5]"
      ]
     },
     "execution_count": 2,
     "metadata": {},
     "output_type": "execute_result"
    }
   ],
   "source": [
    "# a)\n",
    "\n",
    "# Size of the matrix\n",
    "n = 5\n",
    "\n",
    "# Create the matrix\n",
    "A = Matrix(QQ, n, n, lambda i, j: (i + 1 + j + 1 - 3) / (i + 1 + j + 1 + (i + 1) * (j + 1)))\n",
    "\n",
    "# Display\n",
    "A\n",
    "\n"
   ]
  },
  {
   "cell_type": "code",
   "execution_count": 4,
   "id": "a1ea0b",
   "metadata": {
    "collapsed": false,
    "scrolled": true
   },
   "outputs": [
    {
     "name": "stdout",
     "output_type": "stream",
     "text": [
      "Matrix U (left singular vectors):\n",
      "[ 0.2623 -0.8865  0.3726 -0.0802  0.0084]\n",
      "[ 0.4089 -0.2209 -0.6963  0.5289 -0.1396]\n",
      "[ 0.4727   0.067  -0.317 -0.6104  0.5468]\n",
      "[ 0.5084  0.2277  0.1311 -0.3242 -0.7533]\n",
      "[ 0.5312  0.3302  0.5086  0.4859  0.3377]\n",
      "\n",
      "Singular values (diagonal matrix S):\n",
      "[0.9073    0.0    0.0    0.0    0.0]\n",
      "[   0.0 0.5028    0.0    0.0    0.0]\n",
      "[   0.0    0.0 0.0044    0.0    0.0]\n",
      "[   0.0    0.0    0.0    0.0    0.0]\n",
      "[   0.0    0.0    0.0    0.0    0.0]\n",
      "\n",
      "Matrix V (right singular vectors):\n",
      "[ 0.2623  0.8865 -0.3726  0.0802 -0.0084]\n",
      "[ 0.4089  0.2209  0.6963 -0.5289  0.1396]\n",
      "[ 0.4727  -0.067   0.317  0.6104 -0.5468]\n",
      "[ 0.5084 -0.2277 -0.1311  0.3242  0.7533]\n",
      "[ 0.5312 -0.3302 -0.5086 -0.4859 -0.3377]\n"
     ]
    }
   ],
   "source": [
    "# (b)\n",
    "\n",
    "# Compute the Singular Value Decomposition (SVD) of matrix A\n",
    "A = Matrix(RDF, A.nrows(), A.ncols(), A._list())\n",
    "U, S, V = A.SVD()\n",
    "\n",
    "# Display the matrices U, S, and V\n",
    "print(\"Matrix U (left singular vectors):\")\n",
    "print(U.round(4))\n",
    "\n",
    "print(\"\\nSingular values (diagonal matrix S):\")\n",
    "print(S.round(4))\n",
    "\n",
    "print(\"\\nMatrix V (right singular vectors):\")\n",
    "print(V.round(4))\n"
   ]
  },
  {
   "cell_type": "code",
   "execution_count": 6,
   "id": "58a311",
   "metadata": {
    "collapsed": false
   },
   "outputs": [
    {
     "name": "stdout",
     "output_type": "stream",
     "text": [
      "Rank 1 approximation A1:\n",
      "[0.06240399035680051 0.09729371342977959 0.11247177555648606  0.1209631056512692 0.12638867044188432]\n",
      "[0.09729371342977942 0.15169008614405835 0.17535411818001997 0.18859290358710515 0.19705187140173755]\n",
      "[0.11247177555648587 0.17535411818001997 0.20270979827574476  0.2180138672485137 0.22779245515464328]\n",
      "[0.12096310565126901 0.18859290358710515 0.21801386724851374  0.2344733541098875 0.24499020028002125]\n",
      "[ 0.1263886704418841 0.19705187140173752 0.22779245515464325  0.2449902002800212  0.2559787591263613]\n",
      "\n",
      "Rank 2 approximation A2:\n",
      "[  -0.33271565913776774 -0.0011545909866233779    0.14233265290211222    0.22243990187836846    0.27356950185211903]\n",
      "[-0.0011545909866235748     0.1271606337241073    0.18279427648858187    0.21387693726891802     0.2337235563292503]\n",
      "[   0.14233265290211206    0.18279427648858187    0.20045308439935022    0.21034483289539893    0.21666937190634047]\n",
      "[   0.22243990187836837    0.21387693726891804    0.21034483289539896     0.2084115265452784     0.2071904116421829]\n",
      "[   0.27356950185211903    0.23372355632925032    0.21666937190634045    0.20719041164218283    0.20115436058703795]\n"
     ]
    }
   ],
   "source": [
    "# (c)\n",
    "\n",
    "# Rank 1 approximation A1\n",
    "A1 = U[:, 0] * S[0, 0] * V[:, 0].transpose()\n",
    "\n",
    "# Rank 2 approximation A2\n",
    "A2 = U[:, 0:2] * S[0:2, 0:2] * V[:, 0:2].transpose()\n",
    "\n",
    "# Display the approximations\n",
    "print(\"Rank 1 approximation A1:\")\n",
    "print(A1)\n",
    "\n",
    "print(\"\\nRank 2 approximation A2:\")\n",
    "print(A2)"
   ]
  },
  {
   "cell_type": "code",
   "execution_count": 7,
   "id": "12dbda",
   "metadata": {
    "collapsed": false
   },
   "outputs": [
    {
     "name": "stdout",
     "output_type": "stream",
     "text": [
      "SVD of Rank 1 approximation A1:\n",
      "Matrix U (left singular vectors):\n",
      "[-0.2623  0.9422 -0.1336 -0.1286  0.0958]\n",
      "[-0.4089  0.0475  0.7169  0.5442   0.143]\n",
      "[-0.4727 -0.0648 -0.3644  0.3229 -0.7317]\n",
      "[-0.5084 -0.1827   0.329  -0.759 -0.1542]\n",
      "[-0.5312 -0.2692 -0.4765  0.0837  0.6413]\n",
      "\n",
      "Singular values (diagonal matrix S):\n",
      "[0.9073    0.0    0.0    0.0    0.0]\n",
      "[   0.0    0.0    0.0    0.0    0.0]\n",
      "[   0.0    0.0    0.0    0.0    0.0]\n",
      "[   0.0    0.0    0.0    0.0    0.0]\n",
      "[   0.0    0.0    0.0    0.0    0.0]\n",
      "\n",
      "Matrix V (right singular vectors):\n",
      "[-0.2623 -0.1912 -0.0791  0.8252 -0.4554]\n",
      "[-0.4089  0.0616  0.1372 -0.5113 -0.7408]\n",
      "[-0.4727  -0.805  -0.076 -0.1772  0.3022]\n",
      "[-0.5084  0.3188  0.7117  0.1613  0.3276]\n",
      "[-0.5312  0.4582 -0.6801 -0.0105  0.2126]\n",
      "\n",
      "SVD of Rank 2 approximation A2:\n",
      "Matrix U (left singular vectors):\n",
      "[ 0.2623 -0.8865 -0.3457  0.1061  -0.121]\n",
      "[ 0.4089 -0.2209  0.6503  -0.586   0.133]\n",
      "[ 0.4727   0.067  0.1776  0.6337  0.5822]\n",
      "[ 0.5084  0.2277  0.1531  0.2635 -0.7726]\n",
      "[ 0.5312  0.3302 -0.6345 -0.4174  0.1787]\n",
      "\n",
      "Singular values (diagonal matrix S):\n",
      "[0.9073    0.0    0.0    0.0    0.0]\n",
      "[   0.0 0.5028    0.0    0.0    0.0]\n",
      "[   0.0    0.0    0.0    0.0    0.0]\n",
      "[   0.0    0.0    0.0    0.0    0.0]\n",
      "[   0.0    0.0    0.0    0.0    0.0]\n",
      "\n",
      "Matrix V (right singular vectors):\n",
      "[ 0.2623  0.8865  0.3641  0.0691  0.0894]\n",
      "[ 0.4089  0.2209 -0.7528 -0.4648  0.0356]\n",
      "[ 0.4727  -0.067 -0.2681  0.7993 -0.2477]\n",
      "[ 0.5084 -0.2277  0.4107 -0.3734 -0.6178]\n",
      "[ 0.5312 -0.3302  0.2452 -0.0302  0.7401]\n"
     ]
    }
   ],
   "source": [
    "# (d)\n",
    "\n",
    "# Compute SVD of the approximations A1 and A2\n",
    "U1, S1, V1 = A1.SVD()\n",
    "U2, S2, V2 = A2.SVD()\n",
    "\n",
    "# Display SVD A1\n",
    "print(\"SVD of Rank 1 approximation A1:\")\n",
    "print(\"Matrix U (left singular vectors):\")\n",
    "print(U1.round(4))\n",
    "\n",
    "print(\"\\nSingular values (diagonal matrix S):\")\n",
    "print(S1.round(4))\n",
    "\n",
    "print(\"\\nMatrix V (right singular vectors):\")\n",
    "print(V1.round(4))\n",
    "\n",
    "# Display SVD for A2\n",
    "print(\"\\nSVD of Rank 2 approximation A2:\")\n",
    "print(\"Matrix U (left singular vectors):\")\n",
    "print(U2.round(4))\n",
    "\n",
    "print(\"\\nSingular values (diagonal matrix S):\")\n",
    "print(S2.round(4))\n",
    "\n",
    "print(\"\\nMatrix V (right singular vectors):\")\n",
    "print(V2.round(4))"
   ]
  },
  {
   "cell_type": "code",
   "execution_count": 9,
   "id": "d3c0a3",
   "metadata": {
    "collapsed": false
   },
   "outputs": [
    {
     "name": "stdout",
     "output_type": "stream",
     "text": [
      "Frobenius norm of A - A1: 0.5028117092968193\n",
      "Frobenius norm of A - A2: 0.00444720285124732\n"
     ]
    }
   ],
   "source": [
    "# (e)\n",
    "\n",
    "# Calculate\n",
    "frobenius_norm_A_A1 = (A - A1).norm('frob')\n",
    "frobenius_norm_A_A2 = (A - A2).norm('frob')\n",
    "\n",
    "# Display results\n",
    "print(\"Frobenius norm of A - A1:\", frobenius_norm_A_A1)\n",
    "print(\"Frobenius norm of A - A2:\", frobenius_norm_A_A2)"
   ]
  },
  {
   "cell_type": "markdown",
   "id": "384141",
   "metadata": {
    "collapsed": false
   },
   "source": [
    "<span style='font-size:xx-large'>**Problem 8**</span>\n",
    "\n"
   ]
  },
  {
   "cell_type": "code",
   "execution_count": 11,
   "id": "9ca7d0",
   "metadata": {
    "collapsed": false
   },
   "outputs": [
    {
     "name": "stdout",
     "output_type": "stream",
     "text": [
      "Matrix A:\n",
      "[   -3     2     0 alpha]\n",
      "[   -3     4     0     0]\n",
      "[    0     0    -5    -4]\n",
      "[    0     0    -2    -2]\n"
     ]
    }
   ],
   "source": [
    "# (a)\n",
    "\n",
    "# Symbolic variable\n",
    "var('alpha')\n",
    "\n",
    "# Define the matrix A\n",
    "A = Matrix([\n",
    "    [-3, 2,  0, alpha],\n",
    "    [-3, 4,  0, 0],\n",
    "    [ 0, 0, -5, -4],\n",
    "    [ 0, 0, -2, -2]\n",
    "])\n",
    "\n",
    "# Display the matrix\n",
    "print(\"Matrix A:\")\n",
    "print(A)\n"
   ]
  },
  {
   "cell_type": "code",
   "execution_count": 12,
   "id": "520c4f",
   "metadata": {
    "collapsed": false
   },
   "outputs": [
    {
     "name": "stdout",
     "output_type": "stream",
     "text": [
      "Matrix A with alpha = 0:\n",
      "[-3  2  0  0]\n",
      "[-3  4  0  0]\n",
      "[ 0  0 -5 -4]\n",
      "[ 0  0 -2 -2]\n"
     ]
    }
   ],
   "source": [
    "# (b)\n",
    "\n",
    "# Set alpha = 0\n",
    "A_a_0 = A.substitute(alpha=0)\n",
    "\n",
    "# Display the updated matrix\n",
    "print(\"Matrix A with alpha = 0:\")\n",
    "print(A_a_0)"
   ]
  },
  {
   "cell_type": "code",
   "execution_count": 13,
   "id": "b0b1da",
   "metadata": {
    "collapsed": false
   },
   "outputs": [
    {
     "name": "stdout",
     "output_type": "stream",
     "text": [
      "Eigenvalues of A (with alpha = 0):\n",
      "[-1/2*sqrt(41) - 7/2, 1/2*sqrt(41) - 7/2, 3, -2]\n",
      "\n",
      "Eigenvectors of A (with alpha = 0):\n",
      "(-1/2*sqrt(41) - 7/2, [(0, 0, 1, 1/8*sqrt(41) - 3/8)], 1)\n",
      "(1/2*sqrt(41) - 7/2, [(0, 0, 1, -1/8*sqrt(41) - 3/8)], 1)\n",
      "(3, [(1, 3, 0, 0)], 1)\n",
      "(-2, [(1, 1/2, 0, 0)], 1)\n"
     ]
    }
   ],
   "source": [
    "# (c)\n",
    "\n",
    "# Compute the eigenvalues of A\n",
    "eigenvalues_A = A_a_0.eigenvalues()\n",
    "print(\"Eigenvalues of A (with alpha = 0):\")\n",
    "print(eigenvalues_A)\n",
    "\n",
    "# Compute the eigenvectors of A\n",
    "eigenvectors_A = A_a_0.eigenvectors_right()\n",
    "print(\"\\nEigenvectors of A (with alpha = 0):\")\n",
    "for eigenvector in eigenvectors_A:\n",
    "    print(eigenvector)\n",
    "\n"
   ]
  },
  {
   "cell_type": "code",
   "execution_count": 20,
   "id": "c6cb0f",
   "metadata": {
    "collapsed": false
   },
   "outputs": [
    {
     "name": "stdout",
     "output_type": "stream",
     "text": [
      "Algebraic Multiplicities of the Eigenvalues:\n",
      "Eigenvalue: -1/2*sqrt(41) - 7/2, Algebraic multiplicity: [(0, 0, 1, 1/8*sqrt(41) - 3/8)]\n",
      "Eigenvalue: 1/2*sqrt(41) - 7/2, Algebraic multiplicity: [(0, 0, 1, -1/8*sqrt(41) - 3/8)]\n",
      "Eigenvalue: 3, Algebraic multiplicity: [(1, 3, 0, 0)]\n",
      "Eigenvalue: -2, Algebraic multiplicity: [(1, 1/2, 0, 0)]\n"
     ]
    }
   ],
   "source": [
    "# (d)\n",
    "\n",
    "# Compute the eigenvectors (which includes the algebraic multiplicity)\n",
    "eigenvectors_A = A_a_0.eigenvectors_right()\n",
    "\n",
    "# Print the algebraic multiplicity of each eigenvalue\n",
    "print(\"Algebraic Multiplicities of the Eigenvalues:\")\n",
    "for eigenvalue, multiplicity, eigenvectors in eigenvectors_A:\n",
    "    print(f\"Eigenvalue: {eigenvalue}, Algebraic multiplicity: {multiplicity}\")"
   ]
  },
  {
   "cell_type": "code",
   "execution_count": 30,
   "id": "8e911e",
   "metadata": {
    "collapsed": false
   },
   "outputs": [
    {
     "name": "stdout",
     "output_type": "stream",
     "text": [
      "Normalized Eigenvectors of A (with alpha = 0):\n",
      "-(sqrt(41) + 7)/(7*sqrt(41) + 45)\n",
      "-(sqrt(41) - 7)/(7*sqrt(41) - 45)\n",
      "1/3\n",
      "-1/2\n"
     ]
    }
   ],
   "source": [
    "# (e)\n",
    "\n",
    "# Normalize the eigenvectors of A\n",
    "normalized_eigenvectors_A = [eigenvector[0] / eigenvector[0].norm() for eigenvector in eigenvectors_A for v in eigenvector[1]]\n",
    "print(\"Normalized Eigenvectors of A (with alpha = 0):\")\n",
    "for vec in normalized_eigenvectors_A:\n",
    "    print(vec)"
   ]
  },
  {
   "cell_type": "code",
   "execution_count": 25,
   "id": "606cd1",
   "metadata": {
    "collapsed": false
   },
   "outputs": [
    {
     "name": "stdout",
     "output_type": "stream",
     "text": [
      "The eigenvectors are orthogonal.\n"
     ]
    }
   ],
   "source": [
    "# (f)\n",
    "\n",
    "# Check if the eigenvectors are orthogonal\n",
    "are_orthogonal = all(vec1.dot(vec2).is_zero() for i, vec1 in enumerate(normalized_eigenvectors) for vec2 in normalized_eigenvectors[i+1:])\n",
    "\n",
    "if not are_orthogonal:\n",
    "    # Find an orthonormal basis using Gram-Schmidt process\n",
    "    orthonormal_basis = normalized_eigenvectors.GramSchmidt()\n",
    "    print(\"Orthonormal Basis:\")\n",
    "    for idx, vec in enumerate(orthonormal_basis):\n",
    "        print(f\"Orthonormal Vector {idx+1}: {vec}\")\n",
    "else:\n",
    "    print(\"The eigenvectors are orthogonal.\")"
   ]
  }
 ],
 "metadata": {
  "kernelspec": {
   "argv": [
    "sage-10.4",
    "--python",
    "-m",
    "sage.repl.ipython_kernel",
    "--matplotlib=inline",
    "-f",
    "{connection_file}"
   ],
   "display_name": "SageMath 10.4",
   "env": {},
   "language": "sagemath",
   "metadata": {
    "cocalc": {
     "description": "Open-source mathematical software system",
     "priority": 10,
     "url": "https://www.sagemath.org/"
    }
   },
   "name": "sage-10.4",
   "resource_dir": "/ext/jupyter/kernels/sage-10.4"
  },
  "language_info": {
   "codemirror_mode": {
    "name": "ipython",
    "version": 3
   },
   "file_extension": ".py",
   "mimetype": "text/x-python",
   "name": "python",
   "nbconvert_exporter": "python",
   "pygments_lexer": "ipython3",
   "version": "3.12.4"
  }
 },
 "nbformat": 4,
 "nbformat_minor": 4
}
